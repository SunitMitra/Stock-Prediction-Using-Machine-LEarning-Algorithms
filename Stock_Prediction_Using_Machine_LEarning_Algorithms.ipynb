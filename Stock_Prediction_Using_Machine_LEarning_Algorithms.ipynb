{
  "nbformat": 4,
  "nbformat_minor": 0,
  "metadata": {
    "colab": {
      "name": "Stock Prediction Using Machine LEarning Algorithms.ipynb",
      "provenance": [],
      "collapsed_sections": [],
      "authorship_tag": "ABX9TyM4ZV0FY9fc9iBN22ntxaTD",
      "include_colab_link": true
    },
    "kernelspec": {
      "name": "python3",
      "display_name": "Python 3"
    },
    "language_info": {
      "name": "python"
    }
  },
  "cells": [
    {
      "cell_type": "markdown",
      "metadata": {
        "id": "view-in-github",
        "colab_type": "text"
      },
      "source": [
        "<a href=\"https://colab.research.google.com/github/SunitMitra/Stock-Prediction-Using-Machine-LEarning-Algorithms/blob/main/Stock_Prediction_Using_Machine_LEarning_Algorithms.ipynb\" target=\"_parent\"><img src=\"https://colab.research.google.com/assets/colab-badge.svg\" alt=\"Open In Colab\"/></a>"
      ]
    },
    {
      "cell_type": "code",
      "metadata": {
        "id": "2P_qCEIXtmZ5"
      },
      "source": [
        ""
      ],
      "execution_count": null,
      "outputs": []
    },
    {
      "cell_type": "code",
      "metadata": {
        "id": "YnlA3irettYl"
      },
      "source": [
        "#import the libraries\n",
        "from sklearn.svm import SVR\n",
        "import numpy as np\n",
        "import pandas as pd\n",
        "import matplotlib.pyplot as plt\n",
        "plt.style.use('fivethirtyeight')"
      ],
      "execution_count": 1,
      "outputs": []
    },
    {
      "cell_type": "code",
      "metadata": {
        "colab": {
          "resources": {
            "http://localhost:8080/nbextensions/google.colab/files.js": {
              "data": "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",
              "ok": true,
              "headers": [
                [
                  "content-type",
                  "application/javascript"
                ]
              ],
              "status": 200,
              "status_text": ""
            }
          },
          "base_uri": "https://localhost:8080/",
          "height": 110
        },
        "id": "visl3bxwtxEj",
        "outputId": "6ceb357d-7b1a-4148-c03f-bf5d5cbd4d9a"
      },
      "source": [
        "#load the data\n",
        "from google.colab import files\n",
        "files.upload()"
      ],
      "execution_count": 2,
      "outputs": [
        {
          "output_type": "display_data",
          "data": {
            "text/html": [
              "\n",
              "     <input type=\"file\" id=\"files-9981f6cb-9559-4dd2-936c-6b92242c068b\" name=\"files[]\" multiple disabled\n",
              "        style=\"border:none\" />\n",
              "     <output id=\"result-9981f6cb-9559-4dd2-936c-6b92242c068b\">\n",
              "      Upload widget is only available when the cell has been executed in the\n",
              "      current browser session. Please rerun this cell to enable.\n",
              "      </output>\n",
              "      <script src=\"/nbextensions/google.colab/files.js\"></script> "
            ],
            "text/plain": [
              "<IPython.core.display.HTML object>"
            ]
          },
          "metadata": {
            "tags": []
          }
        },
        {
          "output_type": "stream",
          "text": [
            "Saving KO (1).csv to KO (1).csv\n"
          ],
          "name": "stdout"
        },
        {
          "output_type": "execute_result",
          "data": {
            "text/plain": [
              "{'KO (1).csv': b'Date,Open,High,Low,Close,Adj Close,Volume\\n2020-08-17,48.320000,48.750000,48.200001,48.209999,46.707195,9102400\\n2020-08-18,48.200001,48.500000,47.959999,48.419998,46.910648,9829000\\n2020-08-19,48.119999,48.380001,47.220001,47.369999,45.893383,17371000\\n2020-08-20,47.270000,47.599998,47.090000,47.349998,45.874001,11308700\\n2020-08-21,47.340000,47.500000,46.970001,47.279999,45.806187,14734100\\n2020-08-24,47.430000,47.980000,47.180000,47.970001,46.474682,9257700\\n2020-08-25,48.000000,48.049999,47.650002,47.910000,46.416546,7827800\\n2020-08-26,47.759998,48.180000,47.470001,48.160000,46.658756,10124200\\n2020-08-27,48.250000,48.820000,48.200001,48.230000,46.726570,10931600\\n2020-08-28,48.750000,49.849998,48.529999,49.830002,48.276699,16420300\\n2020-08-31,49.799999,50.070000,49.349998,49.529999,47.986050,18510800\\n2020-09-01,49.310001,49.349998,48.830002,49.119999,47.588829,12588400\\n2020-09-02,49.360001,51.360001,49.360001,51.189999,49.594303,26332600\\n2020-09-03,51.400002,52.139999,50.099998,50.480000,48.906433,22289400\\n2020-09-04,50.939999,51.470001,50.279999,51.040001,49.448982,21019500\\n2020-09-08,50.930000,51.040001,49.360001,49.810001,48.257320,17776700\\n2020-09-09,49.599998,50.759998,49.549999,50.189999,48.625477,15252300\\n2020-09-10,50.349998,50.680000,49.950001,50.000000,48.441399,15439500\\n2020-09-11,50.400002,51.200001,50.099998,51.060001,49.468357,18272300\\n2020-09-14,50.970001,51.230000,50.570000,50.709999,49.526958,10911700\\n2020-09-15,51.000000,51.380001,50.840000,51.049999,49.859024,12838400'}"
            ]
          },
          "metadata": {
            "tags": []
          },
          "execution_count": 2
        }
      ]
    },
    {
      "cell_type": "code",
      "metadata": {
        "colab": {
          "base_uri": "https://localhost:8080/",
          "height": 706
        },
        "id": "kEwldGfhtx4j",
        "outputId": "de718c3a-3594-42a4-e821-c0e911250365"
      },
      "source": [
        "#store the data\n",
        "df = pd.read_csv('KO (1).csv')\n",
        "#show the data\n",
        "df"
      ],
      "execution_count": 3,
      "outputs": [
        {
          "output_type": "execute_result",
          "data": {
            "text/html": [
              "<div>\n",
              "<style scoped>\n",
              "    .dataframe tbody tr th:only-of-type {\n",
              "        vertical-align: middle;\n",
              "    }\n",
              "\n",
              "    .dataframe tbody tr th {\n",
              "        vertical-align: top;\n",
              "    }\n",
              "\n",
              "    .dataframe thead th {\n",
              "        text-align: right;\n",
              "    }\n",
              "</style>\n",
              "<table border=\"1\" class=\"dataframe\">\n",
              "  <thead>\n",
              "    <tr style=\"text-align: right;\">\n",
              "      <th></th>\n",
              "      <th>Date</th>\n",
              "      <th>Open</th>\n",
              "      <th>High</th>\n",
              "      <th>Low</th>\n",
              "      <th>Close</th>\n",
              "      <th>Adj Close</th>\n",
              "      <th>Volume</th>\n",
              "    </tr>\n",
              "  </thead>\n",
              "  <tbody>\n",
              "    <tr>\n",
              "      <th>0</th>\n",
              "      <td>2020-08-17</td>\n",
              "      <td>48.320000</td>\n",
              "      <td>48.750000</td>\n",
              "      <td>48.200001</td>\n",
              "      <td>48.209999</td>\n",
              "      <td>46.707195</td>\n",
              "      <td>9102400</td>\n",
              "    </tr>\n",
              "    <tr>\n",
              "      <th>1</th>\n",
              "      <td>2020-08-18</td>\n",
              "      <td>48.200001</td>\n",
              "      <td>48.500000</td>\n",
              "      <td>47.959999</td>\n",
              "      <td>48.419998</td>\n",
              "      <td>46.910648</td>\n",
              "      <td>9829000</td>\n",
              "    </tr>\n",
              "    <tr>\n",
              "      <th>2</th>\n",
              "      <td>2020-08-19</td>\n",
              "      <td>48.119999</td>\n",
              "      <td>48.380001</td>\n",
              "      <td>47.220001</td>\n",
              "      <td>47.369999</td>\n",
              "      <td>45.893383</td>\n",
              "      <td>17371000</td>\n",
              "    </tr>\n",
              "    <tr>\n",
              "      <th>3</th>\n",
              "      <td>2020-08-20</td>\n",
              "      <td>47.270000</td>\n",
              "      <td>47.599998</td>\n",
              "      <td>47.090000</td>\n",
              "      <td>47.349998</td>\n",
              "      <td>45.874001</td>\n",
              "      <td>11308700</td>\n",
              "    </tr>\n",
              "    <tr>\n",
              "      <th>4</th>\n",
              "      <td>2020-08-21</td>\n",
              "      <td>47.340000</td>\n",
              "      <td>47.500000</td>\n",
              "      <td>46.970001</td>\n",
              "      <td>47.279999</td>\n",
              "      <td>45.806187</td>\n",
              "      <td>14734100</td>\n",
              "    </tr>\n",
              "    <tr>\n",
              "      <th>5</th>\n",
              "      <td>2020-08-24</td>\n",
              "      <td>47.430000</td>\n",
              "      <td>47.980000</td>\n",
              "      <td>47.180000</td>\n",
              "      <td>47.970001</td>\n",
              "      <td>46.474682</td>\n",
              "      <td>9257700</td>\n",
              "    </tr>\n",
              "    <tr>\n",
              "      <th>6</th>\n",
              "      <td>2020-08-25</td>\n",
              "      <td>48.000000</td>\n",
              "      <td>48.049999</td>\n",
              "      <td>47.650002</td>\n",
              "      <td>47.910000</td>\n",
              "      <td>46.416546</td>\n",
              "      <td>7827800</td>\n",
              "    </tr>\n",
              "    <tr>\n",
              "      <th>7</th>\n",
              "      <td>2020-08-26</td>\n",
              "      <td>47.759998</td>\n",
              "      <td>48.180000</td>\n",
              "      <td>47.470001</td>\n",
              "      <td>48.160000</td>\n",
              "      <td>46.658756</td>\n",
              "      <td>10124200</td>\n",
              "    </tr>\n",
              "    <tr>\n",
              "      <th>8</th>\n",
              "      <td>2020-08-27</td>\n",
              "      <td>48.250000</td>\n",
              "      <td>48.820000</td>\n",
              "      <td>48.200001</td>\n",
              "      <td>48.230000</td>\n",
              "      <td>46.726570</td>\n",
              "      <td>10931600</td>\n",
              "    </tr>\n",
              "    <tr>\n",
              "      <th>9</th>\n",
              "      <td>2020-08-28</td>\n",
              "      <td>48.750000</td>\n",
              "      <td>49.849998</td>\n",
              "      <td>48.529999</td>\n",
              "      <td>49.830002</td>\n",
              "      <td>48.276699</td>\n",
              "      <td>16420300</td>\n",
              "    </tr>\n",
              "    <tr>\n",
              "      <th>10</th>\n",
              "      <td>2020-08-31</td>\n",
              "      <td>49.799999</td>\n",
              "      <td>50.070000</td>\n",
              "      <td>49.349998</td>\n",
              "      <td>49.529999</td>\n",
              "      <td>47.986050</td>\n",
              "      <td>18510800</td>\n",
              "    </tr>\n",
              "    <tr>\n",
              "      <th>11</th>\n",
              "      <td>2020-09-01</td>\n",
              "      <td>49.310001</td>\n",
              "      <td>49.349998</td>\n",
              "      <td>48.830002</td>\n",
              "      <td>49.119999</td>\n",
              "      <td>47.588829</td>\n",
              "      <td>12588400</td>\n",
              "    </tr>\n",
              "    <tr>\n",
              "      <th>12</th>\n",
              "      <td>2020-09-02</td>\n",
              "      <td>49.360001</td>\n",
              "      <td>51.360001</td>\n",
              "      <td>49.360001</td>\n",
              "      <td>51.189999</td>\n",
              "      <td>49.594303</td>\n",
              "      <td>26332600</td>\n",
              "    </tr>\n",
              "    <tr>\n",
              "      <th>13</th>\n",
              "      <td>2020-09-03</td>\n",
              "      <td>51.400002</td>\n",
              "      <td>52.139999</td>\n",
              "      <td>50.099998</td>\n",
              "      <td>50.480000</td>\n",
              "      <td>48.906433</td>\n",
              "      <td>22289400</td>\n",
              "    </tr>\n",
              "    <tr>\n",
              "      <th>14</th>\n",
              "      <td>2020-09-04</td>\n",
              "      <td>50.939999</td>\n",
              "      <td>51.470001</td>\n",
              "      <td>50.279999</td>\n",
              "      <td>51.040001</td>\n",
              "      <td>49.448982</td>\n",
              "      <td>21019500</td>\n",
              "    </tr>\n",
              "    <tr>\n",
              "      <th>15</th>\n",
              "      <td>2020-09-08</td>\n",
              "      <td>50.930000</td>\n",
              "      <td>51.040001</td>\n",
              "      <td>49.360001</td>\n",
              "      <td>49.810001</td>\n",
              "      <td>48.257320</td>\n",
              "      <td>17776700</td>\n",
              "    </tr>\n",
              "    <tr>\n",
              "      <th>16</th>\n",
              "      <td>2020-09-09</td>\n",
              "      <td>49.599998</td>\n",
              "      <td>50.759998</td>\n",
              "      <td>49.549999</td>\n",
              "      <td>50.189999</td>\n",
              "      <td>48.625477</td>\n",
              "      <td>15252300</td>\n",
              "    </tr>\n",
              "    <tr>\n",
              "      <th>17</th>\n",
              "      <td>2020-09-10</td>\n",
              "      <td>50.349998</td>\n",
              "      <td>50.680000</td>\n",
              "      <td>49.950001</td>\n",
              "      <td>50.000000</td>\n",
              "      <td>48.441399</td>\n",
              "      <td>15439500</td>\n",
              "    </tr>\n",
              "    <tr>\n",
              "      <th>18</th>\n",
              "      <td>2020-09-11</td>\n",
              "      <td>50.400002</td>\n",
              "      <td>51.200001</td>\n",
              "      <td>50.099998</td>\n",
              "      <td>51.060001</td>\n",
              "      <td>49.468357</td>\n",
              "      <td>18272300</td>\n",
              "    </tr>\n",
              "    <tr>\n",
              "      <th>19</th>\n",
              "      <td>2020-09-14</td>\n",
              "      <td>50.970001</td>\n",
              "      <td>51.230000</td>\n",
              "      <td>50.570000</td>\n",
              "      <td>50.709999</td>\n",
              "      <td>49.526958</td>\n",
              "      <td>10911700</td>\n",
              "    </tr>\n",
              "    <tr>\n",
              "      <th>20</th>\n",
              "      <td>2020-09-15</td>\n",
              "      <td>51.000000</td>\n",
              "      <td>51.380001</td>\n",
              "      <td>50.840000</td>\n",
              "      <td>51.049999</td>\n",
              "      <td>49.859024</td>\n",
              "      <td>12838400</td>\n",
              "    </tr>\n",
              "  </tbody>\n",
              "</table>\n",
              "</div>"
            ],
            "text/plain": [
              "          Date       Open       High        Low      Close  Adj Close    Volume\n",
              "0   2020-08-17  48.320000  48.750000  48.200001  48.209999  46.707195   9102400\n",
              "1   2020-08-18  48.200001  48.500000  47.959999  48.419998  46.910648   9829000\n",
              "2   2020-08-19  48.119999  48.380001  47.220001  47.369999  45.893383  17371000\n",
              "3   2020-08-20  47.270000  47.599998  47.090000  47.349998  45.874001  11308700\n",
              "4   2020-08-21  47.340000  47.500000  46.970001  47.279999  45.806187  14734100\n",
              "5   2020-08-24  47.430000  47.980000  47.180000  47.970001  46.474682   9257700\n",
              "6   2020-08-25  48.000000  48.049999  47.650002  47.910000  46.416546   7827800\n",
              "7   2020-08-26  47.759998  48.180000  47.470001  48.160000  46.658756  10124200\n",
              "8   2020-08-27  48.250000  48.820000  48.200001  48.230000  46.726570  10931600\n",
              "9   2020-08-28  48.750000  49.849998  48.529999  49.830002  48.276699  16420300\n",
              "10  2020-08-31  49.799999  50.070000  49.349998  49.529999  47.986050  18510800\n",
              "11  2020-09-01  49.310001  49.349998  48.830002  49.119999  47.588829  12588400\n",
              "12  2020-09-02  49.360001  51.360001  49.360001  51.189999  49.594303  26332600\n",
              "13  2020-09-03  51.400002  52.139999  50.099998  50.480000  48.906433  22289400\n",
              "14  2020-09-04  50.939999  51.470001  50.279999  51.040001  49.448982  21019500\n",
              "15  2020-09-08  50.930000  51.040001  49.360001  49.810001  48.257320  17776700\n",
              "16  2020-09-09  49.599998  50.759998  49.549999  50.189999  48.625477  15252300\n",
              "17  2020-09-10  50.349998  50.680000  49.950001  50.000000  48.441399  15439500\n",
              "18  2020-09-11  50.400002  51.200001  50.099998  51.060001  49.468357  18272300\n",
              "19  2020-09-14  50.970001  51.230000  50.570000  50.709999  49.526958  10911700\n",
              "20  2020-09-15  51.000000  51.380001  50.840000  51.049999  49.859024  12838400"
            ]
          },
          "metadata": {
            "tags": []
          },
          "execution_count": 3
        }
      ]
    },
    {
      "cell_type": "code",
      "metadata": {
        "colab": {
          "base_uri": "https://localhost:8080/",
          "height": 80
        },
        "id": "x7E4og3jtz70",
        "outputId": "7990da22-6f66-4620-f648-afed97dd1645"
      },
      "source": [
        "#show and store the last row of data\n",
        "actual_price=df.tail(1)\n",
        "#show the data\n",
        "actual_price"
      ],
      "execution_count": 4,
      "outputs": [
        {
          "output_type": "execute_result",
          "data": {
            "text/html": [
              "<div>\n",
              "<style scoped>\n",
              "    .dataframe tbody tr th:only-of-type {\n",
              "        vertical-align: middle;\n",
              "    }\n",
              "\n",
              "    .dataframe tbody tr th {\n",
              "        vertical-align: top;\n",
              "    }\n",
              "\n",
              "    .dataframe thead th {\n",
              "        text-align: right;\n",
              "    }\n",
              "</style>\n",
              "<table border=\"1\" class=\"dataframe\">\n",
              "  <thead>\n",
              "    <tr style=\"text-align: right;\">\n",
              "      <th></th>\n",
              "      <th>Date</th>\n",
              "      <th>Open</th>\n",
              "      <th>High</th>\n",
              "      <th>Low</th>\n",
              "      <th>Close</th>\n",
              "      <th>Adj Close</th>\n",
              "      <th>Volume</th>\n",
              "    </tr>\n",
              "  </thead>\n",
              "  <tbody>\n",
              "    <tr>\n",
              "      <th>20</th>\n",
              "      <td>2020-09-15</td>\n",
              "      <td>51.0</td>\n",
              "      <td>51.380001</td>\n",
              "      <td>50.84</td>\n",
              "      <td>51.049999</td>\n",
              "      <td>49.859024</td>\n",
              "      <td>12838400</td>\n",
              "    </tr>\n",
              "  </tbody>\n",
              "</table>\n",
              "</div>"
            ],
            "text/plain": [
              "          Date  Open       High    Low      Close  Adj Close    Volume\n",
              "20  2020-09-15  51.0  51.380001  50.84  51.049999  49.859024  12838400"
            ]
          },
          "metadata": {
            "tags": []
          },
          "execution_count": 4
        }
      ]
    },
    {
      "cell_type": "code",
      "metadata": {
        "colab": {
          "base_uri": "https://localhost:8080/",
          "height": 675
        },
        "id": "jZ5vgsept2aT",
        "outputId": "edfe8446-1f53-403f-fa48-93cf06b31d9e"
      },
      "source": [
        "#get all the data except the las row\n",
        "df=df.head(len(df)-1)\n",
        "#show the data set\n",
        "df"
      ],
      "execution_count": 5,
      "outputs": [
        {
          "output_type": "execute_result",
          "data": {
            "text/html": [
              "<div>\n",
              "<style scoped>\n",
              "    .dataframe tbody tr th:only-of-type {\n",
              "        vertical-align: middle;\n",
              "    }\n",
              "\n",
              "    .dataframe tbody tr th {\n",
              "        vertical-align: top;\n",
              "    }\n",
              "\n",
              "    .dataframe thead th {\n",
              "        text-align: right;\n",
              "    }\n",
              "</style>\n",
              "<table border=\"1\" class=\"dataframe\">\n",
              "  <thead>\n",
              "    <tr style=\"text-align: right;\">\n",
              "      <th></th>\n",
              "      <th>Date</th>\n",
              "      <th>Open</th>\n",
              "      <th>High</th>\n",
              "      <th>Low</th>\n",
              "      <th>Close</th>\n",
              "      <th>Adj Close</th>\n",
              "      <th>Volume</th>\n",
              "    </tr>\n",
              "  </thead>\n",
              "  <tbody>\n",
              "    <tr>\n",
              "      <th>0</th>\n",
              "      <td>2020-08-17</td>\n",
              "      <td>48.320000</td>\n",
              "      <td>48.750000</td>\n",
              "      <td>48.200001</td>\n",
              "      <td>48.209999</td>\n",
              "      <td>46.707195</td>\n",
              "      <td>9102400</td>\n",
              "    </tr>\n",
              "    <tr>\n",
              "      <th>1</th>\n",
              "      <td>2020-08-18</td>\n",
              "      <td>48.200001</td>\n",
              "      <td>48.500000</td>\n",
              "      <td>47.959999</td>\n",
              "      <td>48.419998</td>\n",
              "      <td>46.910648</td>\n",
              "      <td>9829000</td>\n",
              "    </tr>\n",
              "    <tr>\n",
              "      <th>2</th>\n",
              "      <td>2020-08-19</td>\n",
              "      <td>48.119999</td>\n",
              "      <td>48.380001</td>\n",
              "      <td>47.220001</td>\n",
              "      <td>47.369999</td>\n",
              "      <td>45.893383</td>\n",
              "      <td>17371000</td>\n",
              "    </tr>\n",
              "    <tr>\n",
              "      <th>3</th>\n",
              "      <td>2020-08-20</td>\n",
              "      <td>47.270000</td>\n",
              "      <td>47.599998</td>\n",
              "      <td>47.090000</td>\n",
              "      <td>47.349998</td>\n",
              "      <td>45.874001</td>\n",
              "      <td>11308700</td>\n",
              "    </tr>\n",
              "    <tr>\n",
              "      <th>4</th>\n",
              "      <td>2020-08-21</td>\n",
              "      <td>47.340000</td>\n",
              "      <td>47.500000</td>\n",
              "      <td>46.970001</td>\n",
              "      <td>47.279999</td>\n",
              "      <td>45.806187</td>\n",
              "      <td>14734100</td>\n",
              "    </tr>\n",
              "    <tr>\n",
              "      <th>5</th>\n",
              "      <td>2020-08-24</td>\n",
              "      <td>47.430000</td>\n",
              "      <td>47.980000</td>\n",
              "      <td>47.180000</td>\n",
              "      <td>47.970001</td>\n",
              "      <td>46.474682</td>\n",
              "      <td>9257700</td>\n",
              "    </tr>\n",
              "    <tr>\n",
              "      <th>6</th>\n",
              "      <td>2020-08-25</td>\n",
              "      <td>48.000000</td>\n",
              "      <td>48.049999</td>\n",
              "      <td>47.650002</td>\n",
              "      <td>47.910000</td>\n",
              "      <td>46.416546</td>\n",
              "      <td>7827800</td>\n",
              "    </tr>\n",
              "    <tr>\n",
              "      <th>7</th>\n",
              "      <td>2020-08-26</td>\n",
              "      <td>47.759998</td>\n",
              "      <td>48.180000</td>\n",
              "      <td>47.470001</td>\n",
              "      <td>48.160000</td>\n",
              "      <td>46.658756</td>\n",
              "      <td>10124200</td>\n",
              "    </tr>\n",
              "    <tr>\n",
              "      <th>8</th>\n",
              "      <td>2020-08-27</td>\n",
              "      <td>48.250000</td>\n",
              "      <td>48.820000</td>\n",
              "      <td>48.200001</td>\n",
              "      <td>48.230000</td>\n",
              "      <td>46.726570</td>\n",
              "      <td>10931600</td>\n",
              "    </tr>\n",
              "    <tr>\n",
              "      <th>9</th>\n",
              "      <td>2020-08-28</td>\n",
              "      <td>48.750000</td>\n",
              "      <td>49.849998</td>\n",
              "      <td>48.529999</td>\n",
              "      <td>49.830002</td>\n",
              "      <td>48.276699</td>\n",
              "      <td>16420300</td>\n",
              "    </tr>\n",
              "    <tr>\n",
              "      <th>10</th>\n",
              "      <td>2020-08-31</td>\n",
              "      <td>49.799999</td>\n",
              "      <td>50.070000</td>\n",
              "      <td>49.349998</td>\n",
              "      <td>49.529999</td>\n",
              "      <td>47.986050</td>\n",
              "      <td>18510800</td>\n",
              "    </tr>\n",
              "    <tr>\n",
              "      <th>11</th>\n",
              "      <td>2020-09-01</td>\n",
              "      <td>49.310001</td>\n",
              "      <td>49.349998</td>\n",
              "      <td>48.830002</td>\n",
              "      <td>49.119999</td>\n",
              "      <td>47.588829</td>\n",
              "      <td>12588400</td>\n",
              "    </tr>\n",
              "    <tr>\n",
              "      <th>12</th>\n",
              "      <td>2020-09-02</td>\n",
              "      <td>49.360001</td>\n",
              "      <td>51.360001</td>\n",
              "      <td>49.360001</td>\n",
              "      <td>51.189999</td>\n",
              "      <td>49.594303</td>\n",
              "      <td>26332600</td>\n",
              "    </tr>\n",
              "    <tr>\n",
              "      <th>13</th>\n",
              "      <td>2020-09-03</td>\n",
              "      <td>51.400002</td>\n",
              "      <td>52.139999</td>\n",
              "      <td>50.099998</td>\n",
              "      <td>50.480000</td>\n",
              "      <td>48.906433</td>\n",
              "      <td>22289400</td>\n",
              "    </tr>\n",
              "    <tr>\n",
              "      <th>14</th>\n",
              "      <td>2020-09-04</td>\n",
              "      <td>50.939999</td>\n",
              "      <td>51.470001</td>\n",
              "      <td>50.279999</td>\n",
              "      <td>51.040001</td>\n",
              "      <td>49.448982</td>\n",
              "      <td>21019500</td>\n",
              "    </tr>\n",
              "    <tr>\n",
              "      <th>15</th>\n",
              "      <td>2020-09-08</td>\n",
              "      <td>50.930000</td>\n",
              "      <td>51.040001</td>\n",
              "      <td>49.360001</td>\n",
              "      <td>49.810001</td>\n",
              "      <td>48.257320</td>\n",
              "      <td>17776700</td>\n",
              "    </tr>\n",
              "    <tr>\n",
              "      <th>16</th>\n",
              "      <td>2020-09-09</td>\n",
              "      <td>49.599998</td>\n",
              "      <td>50.759998</td>\n",
              "      <td>49.549999</td>\n",
              "      <td>50.189999</td>\n",
              "      <td>48.625477</td>\n",
              "      <td>15252300</td>\n",
              "    </tr>\n",
              "    <tr>\n",
              "      <th>17</th>\n",
              "      <td>2020-09-10</td>\n",
              "      <td>50.349998</td>\n",
              "      <td>50.680000</td>\n",
              "      <td>49.950001</td>\n",
              "      <td>50.000000</td>\n",
              "      <td>48.441399</td>\n",
              "      <td>15439500</td>\n",
              "    </tr>\n",
              "    <tr>\n",
              "      <th>18</th>\n",
              "      <td>2020-09-11</td>\n",
              "      <td>50.400002</td>\n",
              "      <td>51.200001</td>\n",
              "      <td>50.099998</td>\n",
              "      <td>51.060001</td>\n",
              "      <td>49.468357</td>\n",
              "      <td>18272300</td>\n",
              "    </tr>\n",
              "    <tr>\n",
              "      <th>19</th>\n",
              "      <td>2020-09-14</td>\n",
              "      <td>50.970001</td>\n",
              "      <td>51.230000</td>\n",
              "      <td>50.570000</td>\n",
              "      <td>50.709999</td>\n",
              "      <td>49.526958</td>\n",
              "      <td>10911700</td>\n",
              "    </tr>\n",
              "  </tbody>\n",
              "</table>\n",
              "</div>"
            ],
            "text/plain": [
              "          Date       Open       High        Low      Close  Adj Close    Volume\n",
              "0   2020-08-17  48.320000  48.750000  48.200001  48.209999  46.707195   9102400\n",
              "1   2020-08-18  48.200001  48.500000  47.959999  48.419998  46.910648   9829000\n",
              "2   2020-08-19  48.119999  48.380001  47.220001  47.369999  45.893383  17371000\n",
              "3   2020-08-20  47.270000  47.599998  47.090000  47.349998  45.874001  11308700\n",
              "4   2020-08-21  47.340000  47.500000  46.970001  47.279999  45.806187  14734100\n",
              "5   2020-08-24  47.430000  47.980000  47.180000  47.970001  46.474682   9257700\n",
              "6   2020-08-25  48.000000  48.049999  47.650002  47.910000  46.416546   7827800\n",
              "7   2020-08-26  47.759998  48.180000  47.470001  48.160000  46.658756  10124200\n",
              "8   2020-08-27  48.250000  48.820000  48.200001  48.230000  46.726570  10931600\n",
              "9   2020-08-28  48.750000  49.849998  48.529999  49.830002  48.276699  16420300\n",
              "10  2020-08-31  49.799999  50.070000  49.349998  49.529999  47.986050  18510800\n",
              "11  2020-09-01  49.310001  49.349998  48.830002  49.119999  47.588829  12588400\n",
              "12  2020-09-02  49.360001  51.360001  49.360001  51.189999  49.594303  26332600\n",
              "13  2020-09-03  51.400002  52.139999  50.099998  50.480000  48.906433  22289400\n",
              "14  2020-09-04  50.939999  51.470001  50.279999  51.040001  49.448982  21019500\n",
              "15  2020-09-08  50.930000  51.040001  49.360001  49.810001  48.257320  17776700\n",
              "16  2020-09-09  49.599998  50.759998  49.549999  50.189999  48.625477  15252300\n",
              "17  2020-09-10  50.349998  50.680000  49.950001  50.000000  48.441399  15439500\n",
              "18  2020-09-11  50.400002  51.200001  50.099998  51.060001  49.468357  18272300\n",
              "19  2020-09-14  50.970001  51.230000  50.570000  50.709999  49.526958  10911700"
            ]
          },
          "metadata": {
            "tags": []
          },
          "execution_count": 5
        }
      ]
    },
    {
      "cell_type": "code",
      "metadata": {
        "id": "IDDoCNkqt4ZL"
      },
      "source": [
        "#create empty lists\n",
        "days=list()\n",
        "adj_close_prices=list()"
      ],
      "execution_count": 6,
      "outputs": []
    },
    {
      "cell_type": "code",
      "metadata": {
        "id": "E4JfKJVGt6x0"
      },
      "source": [
        "#get only the date and the adj close prices\n",
        "df_days = df.loc[:, 'Date']\n",
        "df_adj_close = df.loc[:, 'Adj Close']"
      ],
      "execution_count": 7,
      "outputs": []
    },
    {
      "cell_type": "code",
      "metadata": {
        "id": "QASIUbylt8c7"
      },
      "source": [
        "#create the independent data set (Dates)\n",
        "for day in df_days:\n",
        "  days.append([int(day.split('-')[2])])\n",
        "#create the dependent data set (Adj Close)\n",
        "for adj_close_price in df_adj_close:\n",
        "  adj_close_prices.append(float(adj_close_price))"
      ],
      "execution_count": 8,
      "outputs": []
    },
    {
      "cell_type": "code",
      "metadata": {
        "colab": {
          "base_uri": "https://localhost:8080/"
        },
        "id": "7gqvgNwit-O9",
        "outputId": "0942deda-71bb-4d05-d223-a3ceb1cc7257"
      },
      "source": [
        "#show the days\n",
        "days"
      ],
      "execution_count": 9,
      "outputs": [
        {
          "output_type": "execute_result",
          "data": {
            "text/plain": [
              "[[17],\n",
              " [18],\n",
              " [19],\n",
              " [20],\n",
              " [21],\n",
              " [24],\n",
              " [25],\n",
              " [26],\n",
              " [27],\n",
              " [28],\n",
              " [31],\n",
              " [1],\n",
              " [2],\n",
              " [3],\n",
              " [4],\n",
              " [8],\n",
              " [9],\n",
              " [10],\n",
              " [11],\n",
              " [14]]"
            ]
          },
          "metadata": {
            "tags": []
          },
          "execution_count": 9
        }
      ]
    },
    {
      "cell_type": "code",
      "metadata": {
        "colab": {
          "base_uri": "https://localhost:8080/"
        },
        "id": "FrEZdFJPuCWE",
        "outputId": "d0166b3d-ae2a-447b-c1f2-a708bd8478ca"
      },
      "source": [
        "#show the adj_close _prices\n",
        "adj_close_prices"
      ],
      "execution_count": 10,
      "outputs": [
        {
          "output_type": "execute_result",
          "data": {
            "text/plain": [
              "[46.707195,\n",
              " 46.910647999999995,\n",
              " 45.893383,\n",
              " 45.874001,\n",
              " 45.806187,\n",
              " 46.474682,\n",
              " 46.416546000000004,\n",
              " 46.658756,\n",
              " 46.72657,\n",
              " 48.276699,\n",
              " 47.98605,\n",
              " 47.588829,\n",
              " 49.594303000000004,\n",
              " 48.906433,\n",
              " 49.448982,\n",
              " 48.25732,\n",
              " 48.625477000000004,\n",
              " 48.441399,\n",
              " 49.468357,\n",
              " 49.526958]"
            ]
          },
          "metadata": {
            "tags": []
          },
          "execution_count": 10
        }
      ]
    },
    {
      "cell_type": "code",
      "metadata": {
        "colab": {
          "base_uri": "https://localhost:8080/"
        },
        "id": "HBRCC9tFuC-k",
        "outputId": "69c1b491-04a3-40b5-8d7b-c3db8cb0c96b"
      },
      "source": [
        "#create 3 models \n",
        "lin_svr= SVR(kernel='linear', C=1000.0)\n",
        "lin_svr.fit(days,adj_close_prices)\n",
        "\n",
        "poly_svr= SVR(kernel='poly', C=1000.0,degree=2)\n",
        "poly_svr.fit(days,adj_close_prices)\n",
        "\n",
        "rbf_svr= SVR(kernel='rbf', C=1000.0,gamma=0.85)\n",
        "rbf_svr.fit(days,adj_close_prices)"
      ],
      "execution_count": 11,
      "outputs": [
        {
          "output_type": "execute_result",
          "data": {
            "text/plain": [
              "SVR(C=1000.0, cache_size=200, coef0=0.0, degree=3, epsilon=0.1, gamma=0.85,\n",
              "    kernel='rbf', max_iter=-1, shrinking=True, tol=0.001, verbose=False)"
            ]
          },
          "metadata": {
            "tags": []
          },
          "execution_count": 11
        }
      ]
    },
    {
      "cell_type": "code",
      "metadata": {
        "colab": {
          "base_uri": "https://localhost:8080/",
          "height": 224
        },
        "id": "Q8xnCTAEuFfU",
        "outputId": "0fe1cb4a-67df-4a2d-edeb-1586c6bb140e"
      },
      "source": [
        "#plot the models\n",
        "plt.figure(figsize=(16,3))\n",
        "plt.scatter(days, adj_close_prices, color = 'black', label = 'Data')\n",
        "plt.plot(days, rbf_svr.predict(days), color = 'red', label = 'RBF Model')\n",
        "plt.plot(days, poly_svr.predict(days), color = 'orange', label = 'Polynomial Model')\n",
        "plt.plot(days, lin_svr.predict(days), color = 'blue', label = 'Linear Model')\n",
        "plt.xlabel('Days')\n",
        "plt.ylabel('Adj Close Price ($)')\n",
        "plt.legend()\n",
        "plt.show()"
      ],
      "execution_count": 14,
      "outputs": [
        {
          "output_type": "display_data",
          "data": {
            "image/png": "[encoded data removed]",
            "text/plain": [
              "<Figure size 1152x216 with 1 Axes>"
            ]
          },
          "metadata": {
            "tags": [],
            "needs_background": "light"
          }
        }
      ]
    },
    {
      "cell_type": "code",
      "metadata": {
        "colab": {
          "base_uri": "https://localhost:8080/"
        },
        "id": "GUBqg8Jo2oIX",
        "outputId": "23013aba-bb75-4b68-fe21-4dc372ea67f4"
      },
      "source": [
        "#show the predicted price for the given day\n",
        "day=[[15]]\n",
        "print('The RBF SVR predicted price:', rbf_svr.predict(day))\n",
        "print('The Linear SVR predicted price:', lin_svr.predict(day))\n",
        "print('The Polynomial SVR predicted price:', poly_svr.predict(day))"
      ],
      "execution_count": 16,
      "outputs": [
        {
          "output_type": "stream",
          "text": [
            "The RBF SVR predicted price: [48.44522077]\n",
            "The Linear SVR predicted price: [47.72938413]\n",
            "The Polynomial SVR predicted price: [48.04870254]\n"
          ],
          "name": "stdout"
        }
      ]
    },
    {
      "cell_type": "code",
      "metadata": {
        "colab": {
          "base_uri": "https://localhost:8080/"
        },
        "id": "hAWwM9yL2_jw",
        "outputId": "f1fa246e-4ee3-45ee-d2b7-871f66a09838"
      },
      "source": [
        "#show the actual price\n",
        "print('the actual price:', actual_price['Adj Close'][20])"
      ],
      "execution_count": 18,
      "outputs": [
        {
          "output_type": "stream",
          "text": [
            "the actual price: 49.859024\n"
          ],
          "name": "stdout"
        }
      ]
    },
    {
      "cell_type": "code",
      "metadata": {
        "id": "-LlB7eQj4GSi"
      },
      "source": [
        ""
      ],
      "execution_count": null,
      "outputs": []
    }
  ]
}